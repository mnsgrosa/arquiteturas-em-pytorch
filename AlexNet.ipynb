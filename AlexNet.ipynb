{
  "nbformat": 4,
  "nbformat_minor": 0,
  "metadata": {
    "colab": {
      "provenance": []
    },
    "kernelspec": {
      "name": "python3",
      "display_name": "Python 3"
    },
    "language_info": {
      "name": "python"
    },
    "accelerator": "GPU",
    "gpuClass": "standard"
  },
  "cells": [
    {
      "cell_type": "code",
      "execution_count": null,
      "metadata": {
        "colab": {
          "base_uri": "https://localhost:8080/"
        },
        "id": "6d-9Prow_Qih",
        "outputId": "06c783cd-a9a9-4570-a354-cc80ab8274cd"
      },
      "outputs": [
        {
          "output_type": "stream",
          "name": "stdout",
          "text": [
            "Looking in indexes: https://pypi.org/simple, https://us-python.pkg.dev/colab-wheels/public/simple/\n",
            "Requirement already satisfied: torchmetrics in /usr/local/lib/python3.8/dist-packages (0.11.0)\n",
            "Requirement already satisfied: numpy>=1.17.2 in /usr/local/lib/python3.8/dist-packages (from torchmetrics) (1.21.6)\n",
            "Requirement already satisfied: torch>=1.8.1 in /usr/local/lib/python3.8/dist-packages (from torchmetrics) (1.12.1+cu113)\n",
            "Requirement already satisfied: packaging in /usr/local/lib/python3.8/dist-packages (from torchmetrics) (21.3)\n",
            "Requirement already satisfied: typing-extensions in /usr/local/lib/python3.8/dist-packages (from torchmetrics) (4.1.1)\n",
            "Requirement already satisfied: pyparsing!=3.0.5,>=2.0.2 in /usr/local/lib/python3.8/dist-packages (from packaging->torchmetrics) (3.0.9)\n"
          ]
        }
      ],
      "source": [
        "!pip install torchmetrics"
      ]
    },
    {
      "cell_type": "code",
      "source": [
        "import torch\n",
        "import torch.nn as nn\n",
        "import matplotlib.pyplot as plt\n",
        "from torchmetrics import Accuracy\n",
        "from torchvision.datasets import FashionMNIST\n",
        "from torch.utils.data import DataLoader\n",
        "from torchvision.transforms import ToTensor\n",
        "from torchvision.transforms import Resize\n",
        "from torchvision.transforms import Compose"
      ],
      "metadata": {
        "id": "GFKVsM4i_wh3"
      },
      "execution_count": null,
      "outputs": []
    },
    {
      "cell_type": "code",
      "source": [
        "device = 'cuda' if torch.cuda.is_available() else 'cpu'"
      ],
      "metadata": {
        "id": "o4sN_BkRBAbn"
      },
      "execution_count": null,
      "outputs": []
    },
    {
      "cell_type": "code",
      "source": [
        "transform = Compose(\n",
        "    [Resize((224, 224)),\n",
        "    ToTensor()]\n",
        ")"
      ],
      "metadata": {
        "id": "GNZ5nDy0B4I8"
      },
      "execution_count": null,
      "outputs": []
    },
    {
      "cell_type": "code",
      "source": [
        "train_data = FashionMNIST(root = './data', train = True,\n",
        "                          transform = transform, target_transform = None,\n",
        "                          download = True)\n",
        "\n",
        "test_data = FashionMNIST(root = './data', train = False,\n",
        "                          transform = transform, target_transform = None,\n",
        "                          download = True)"
      ],
      "metadata": {
        "id": "QTvwhzDWBJMt"
      },
      "execution_count": null,
      "outputs": []
    },
    {
      "cell_type": "code",
      "source": [
        "torch.manual_seed(42)\n",
        "\n",
        "train_loader = DataLoader(train_data, batch_size = 128, shuffle = True)\n",
        "test_loader = DataLoader(test_data, batch_size = 128, shuffle = True)"
      ],
      "metadata": {
        "id": "TWvPPRMeBJD1"
      },
      "execution_count": null,
      "outputs": []
    },
    {
      "cell_type": "code",
      "source": [
        "class AlexNet(nn.Module):\n",
        "  def __init__(self, lr = 0.01, num_classes = 10):\n",
        "    super().__init__()\n",
        "    self.lr = lr\n",
        "    self.num_classes = 10\n",
        "    self.net = nn.Sequential(\n",
        "        nn.LazyConv2d(96, kernel_size = 11, stride = 4, padding = 1),\n",
        "        nn.ReLU(),\n",
        "        nn.MaxPool2d(kernel_size = 3, stride = 2),\n",
        "        nn.LazyConv2d(256, kernel_size = 5, padding = 2),\n",
        "        nn.ReLU(),\n",
        "        nn.MaxPool2d(kernel_size = 3, stride = 2),\n",
        "        nn.LazyConv2d(384, kernel_size=3, padding=1), \n",
        "        nn.ReLU(),\n",
        "        nn.LazyConv2d(384, kernel_size=3, padding=1), \n",
        "        nn.ReLU(),\n",
        "        nn.LazyConv2d(256, kernel_size=3, padding=1), \n",
        "        nn.ReLU(),\n",
        "        nn.MaxPool2d(kernel_size=3, stride=2), \n",
        "        nn.Flatten(),\n",
        "        nn.LazyLinear(4096), nn.ReLU(), nn.Dropout(p=0.5),\n",
        "        nn.LazyLinear(4096), nn.ReLU(),nn.Dropout(p=0.5),\n",
        "        nn.LazyLinear(num_classes)\n",
        "    )\n",
        "\n",
        "  def forward(self, x):\n",
        "    return self.net(x)"
      ],
      "metadata": {
        "id": "NPXW24J1_1WW"
      },
      "execution_count": null,
      "outputs": []
    },
    {
      "cell_type": "code",
      "source": [
        "model = AlexNet().to(device)"
      ],
      "metadata": {
        "colab": {
          "base_uri": "https://localhost:8080/"
        },
        "id": "s0ayfPyuC45c",
        "outputId": "ad8dfe88-7c97-4612-94e2-039f838c8818"
      },
      "execution_count": null,
      "outputs": [
        {
          "output_type": "stream",
          "name": "stderr",
          "text": [
            "/usr/local/lib/python3.8/dist-packages/torch/nn/modules/lazy.py:178: UserWarning: Lazy modules are a new feature under heavy development so changes to the API or functionality can happen at any moment.\n",
            "  warnings.warn('Lazy modules are a new feature under heavy development '\n"
          ]
        }
      ]
    },
    {
      "cell_type": "code",
      "source": [
        "criterion = nn.CrossEntropyLoss().to(device)\n",
        "optimizer = torch.optim.SGD(model.parameters(), lr = 0.01)\n",
        "acc = Accuracy(task = 'multiclass', num_classes = 10).to(device)"
      ],
      "metadata": {
        "id": "kvnS_0kbAw1X"
      },
      "execution_count": null,
      "outputs": []
    },
    {
      "cell_type": "code",
      "source": [
        "def train_step(model, train_loader, criterion, optimizer, acc, device):\n",
        "  train_loss = 0\n",
        "  train_acc = 0\n",
        "\n",
        "  for X, y in train_loader:\n",
        "    X, y = X.to(device), y.to(device)\n",
        "    preds = model(X)\n",
        "    loss = criterion(preds, y)\n",
        "    train_loss += loss.item()\n",
        "    train_acc += acc(preds, y).item()\n",
        "\n",
        "    optimizer.zero_grad()\n",
        "    loss.backward()\n",
        "    optimizer.step()\n",
        "\n",
        "  train_loss /= len(train_loader)\n",
        "  train_acc /= len(train_loader)\n",
        "\n",
        "  return train_loss, train_acc"
      ],
      "metadata": {
        "id": "TC4AeDVrC-Zk"
      },
      "execution_count": null,
      "outputs": []
    },
    {
      "cell_type": "code",
      "source": [
        "def test_step(model, test_loader, criterion, acc, device):\n",
        "  test_loss = 0\n",
        "  test_acc = 0\n",
        "\n",
        "  model.eval()\n",
        "  with torch.inference_mode():\n",
        "    for X, y in test_loader:\n",
        "      X, y = X.to(device), y.to(device)\n",
        "      preds = model(X)\n",
        "      test_loss += criterion(preds, y).item()\n",
        "      test_acc += acc(preds, y).item()\n",
        "\n",
        "    test_loss /= len(test_loader)\n",
        "    test_acc /= len(test_loader)\n",
        "\n",
        "    return test_loss, test_acc"
      ],
      "metadata": {
        "id": "BuxhZMbIDy6N"
      },
      "execution_count": null,
      "outputs": []
    },
    {
      "cell_type": "code",
      "source": [
        "epochs = 10\n",
        "\n",
        "train_losses = []\n",
        "train_accs = []\n",
        "test_losses = []\n",
        "test_accs = []\n",
        "\n",
        "for epoch in range(epochs):\n",
        "  train_loss, train_acc = train_step(model, train_loader, criterion, optimizer, acc, device)\n",
        "  train_losses.append(train_loss)\n",
        "  train_accs.append(train_acc)\n",
        "  test_loss, test_acc = test_step(model, test_loader, criterion, acc, device)\n",
        "  test_losses.append(test_loss)\n",
        "  test_accs.append(test_acc)"
      ],
      "metadata": {
        "id": "CQByrmlrEYe0"
      },
      "execution_count": null,
      "outputs": []
    },
    {
      "cell_type": "code",
      "source": [
        "plt.plot(range(epochs), train_losses)\n",
        "plt.plot(range(epochs), test_losses)"
      ],
      "metadata": {
        "colab": {
          "base_uri": "https://localhost:8080/",
          "height": 282
        },
        "id": "SXWiSWxoFZnr",
        "outputId": "4376cf79-83d3-40e8-d1cd-48deee39db69"
      },
      "execution_count": null,
      "outputs": [
        {
          "output_type": "execute_result",
          "data": {
            "text/plain": [
              "[<matplotlib.lines.Line2D at 0x7f3176653be0>]"
            ]
          },
          "metadata": {},
          "execution_count": 23
        },
        {
          "output_type": "display_data",
          "data": {
            "text/plain": [
              "<Figure size 432x288 with 1 Axes>"
            ],
            "image/png": "[encoded data removed]"
          },
          "metadata": {
            "needs_background": "light"
          }
        }
      ]
    },
    {
      "cell_type": "code",
      "source": [
        "plt.plot(range(epochs), train_accs)\n",
        "plt.plot(range(epochs), test_accs)"
      ],
      "metadata": {
        "colab": {
          "base_uri": "https://localhost:8080/",
          "height": 282
        },
        "id": "s-AxmaiYHPHD",
        "outputId": "a0daaf6e-31b2-400a-b3e4-21c7c6915f36"
      },
      "execution_count": null,
      "outputs": [
        {
          "output_type": "execute_result",
          "data": {
            "text/plain": [
              "[<matplotlib.lines.Line2D at 0x7f317656ce50>]"
            ]
          },
          "metadata": {},
          "execution_count": 24
        },
        {
          "output_type": "display_data",
          "data": {
            "text/plain": [
              "<Figure size 432x288 with 1 Axes>"
            ],
            "image/png": "[encoded data removed]"
          },
          "metadata": {
            "needs_background": "light"
          }
        }
      ]
    },
    {
      "cell_type": "code",
      "source": [],
      "metadata": {
        "id": "Ed8XRwUBHTjj"
      },
      "execution_count": null,
      "outputs": []
    }
  ]
}